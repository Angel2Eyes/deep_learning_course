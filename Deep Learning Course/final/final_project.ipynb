{
  "nbformat": 4,
  "nbformat_minor": 0,
  "metadata": {
    "colab": {
      "name": "final_project.ipynb",
      "provenance": [],
      "collapsed_sections": []
    },
    "kernelspec": {
      "name": "python3",
      "display_name": "Python 3"
    },
    "language_info": {
      "name": "python"
    }
  },
  "cells": [
    {
      "cell_type": "markdown",
      "source": [
        "# Spam or Ham\n",
        "\n",
        "## Final Project - Intro to Deep Learning\n",
        "## BGU Winter 2021"
      ],
      "metadata": {
        "id": "3fJknEjW8snZ"
      }
    },
    {
      "cell_type": "code",
      "execution_count": 1,
      "metadata": {
        "id": "JMVlQUyv8mLz"
      },
      "outputs": [],
      "source": [
        "import os\n",
        "\n",
        "import pandas as pd\n",
        "import numpy as np\n",
        "import matplotlib.pyplot as plt\n",
        "\n",
        "import torch\n",
        "import torch.nn as nn\n",
        "import torch.nn.functional as F\n",
        "import torch.optim as optim"
      ]
    },
    {
      "cell_type": "code",
      "source": [
        "from google.colab import drive\n",
        "#drive.mount('/content/gdrive/deep_learning/FinalProject/data')\n",
        "\n",
        "path_route = os.walk('/content/gdrive/deep_learning/FinalProject/data')\n",
        "\n",
        "hamData, spamData = [], []\n",
        "\n",
        "for root, directory, file in path_route:\n",
        "  if 'ham' in str(file):\n",
        "        for obj in file:\n",
        "            with open(root + '/' + obj, encoding='latin1') as ip:\n",
        "                hamData.append(\" \".join(ip.readlines()))\n",
        "  elif 'spam' in str(file):\n",
        "        for obj in file:\n",
        "            with open(root + '/' + obj, encoding='latin1') as ip:\n",
        "                spamData.append(\" \".join(ip.readlines()))\n",
        "\n",
        "# remove all redundent data\n",
        "\n",
        "allHamData = list(set(hamData))\n",
        "allSpamData = list(set(spamData))\n",
        "\n",
        "# storing it in a dataframe\n",
        "\n",
        "hamPlusSpamData = allHamData + allSpamData\n",
        "labels = [\"ham\"]*len(allHamData) + [\"spam\"]*len(allSpamData)\n",
        "\n",
        "raw_df = pd.DataFrame({\"email\": hamPlusSpamData, \n",
        "                       \"label\": labels})\n",
        "\n",
        "# checking how it looks\n",
        "\n",
        "raw_df.sample(5)"
      ],
      "metadata": {
        "id": "HV91Yd3I_Vfz"
      },
      "execution_count": 5,
      "outputs": []
    }
  ]
}