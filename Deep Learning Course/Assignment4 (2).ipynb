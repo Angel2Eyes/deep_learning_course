{
  "nbformat": 4,
  "nbformat_minor": 0,
  "metadata": {
    "colab": {
      "name": "Assignment4.ipynb",
      "provenance": [],
      "collapsed_sections": [],
      "toc_visible": true
    },
    "language_info": {
      "name": "python"
    },
    "kernelspec": {
      "name": "python3",
      "display_name": "Python 3"
    },
    "accelerator": "GPU"
  },
  "cells": [
    {
      "cell_type": "markdown",
      "metadata": {
        "id": "MV-Baq834KT6"
      },
      "source": [
        "# Assignment 4: Language Processing with RNN-Based Autoencoders\n",
        "\n",
        "**Deadline**: Sunday, June 15th, by 9pm.\n",
        "\n",
        "\n",
        "**Submission**: Submit a PDF export of the completed notebook as well as the ipynb file. \n",
        "\n",
        "In this assignement, we will practice the application of deep learning to natural language processing.\n",
        "We will be working with a subset of Reuters news headlines that are collected over 15 months,\n",
        "covering all of 2019, plus a few months in 2018 and in a few months of this year.\n",
        "\n",
        "In particular, we will be building an **autoencoder** of news headlines. The idea is similar\n",
        "to the kind of image autoencoder we built in lecture: we will have an **encoder** that\n",
        "maps a news headline to a vector embedding, and then a **decoder** that reconstructs\n",
        "the news headline. Both our encoder and decoder networks will be Recurrent Neural Networks,\n",
        "so that you have a chance to practice building\n",
        "\n",
        "- a neural network that takes a sequence as an input\n",
        "- a neural network that generates a sequence as an output\n",
        "\n",
        "This assignment is organized as follows:\n",
        "\n",
        "- Question 1. Exploring the data\n",
        "- Question 2. Building the autoencoder\n",
        "- Question 3. Training the autoencoder using *data augmentation*\n",
        "- Question 4. Analyzing the embeddings (interpolating between headlines)\n",
        "\n",
        "Furthermore, we'll be introducing the idea of **data augmentation** for improving of\n",
        "the robustness of the autoencoder, as proposed by Shen et al [1] in ICML 2020.\n",
        "\n",
        "[1] Shen, Tianxiao, Jonas Mueller, Regina Barzilay, and Tommi Jaakkola. \"Educating text autoencoders: Latent representation guidance via denoising.\" In International Conference on Machine Learning, pp. 8719-8729. PMLR, 2020."
      ]
    },
    {
      "cell_type": "code",
      "metadata": {
        "id": "_CobqQza4KUC"
      },
      "source": [
        "import torch\n",
        "import torch.nn as nn\n",
        "import torch.nn.functional as F\n",
        "import torch.optim as optim\n",
        "\n",
        "import matplotlib.pyplot as plt\n",
        "import numpy as np\n",
        "import random"
      ],
      "execution_count": 1,
      "outputs": []
    },
    {
      "cell_type": "markdown",
      "metadata": {
        "id": "cSz5FCNh4KUD"
      },
      "source": [
        "## Question 1. Data (20 %)\n",
        "\n",
        "Download the files `reuters_train.txt` and `reuters_valid.txt`, and upload them to Google Drive.\n",
        "\n",
        "Then, mount Google Drive from your Google Colab notebook:"
      ]
    },
    {
      "cell_type": "code",
      "metadata": {
        "colab": {
          "base_uri": "https://localhost:8080/"
        },
        "id": "fnABNyg94KUE",
        "outputId": "25d65229-c39f-468d-f664-e9355a7856e6"
      },
      "source": [
        "from google.colab import drive\n",
        "drive.mount('/content/gdrive')\n",
        "\n",
        "train_path = '/content/gdrive/My Drive/deep_learning/assignment4/reuters_train.txt' # Update me\n",
        "valid_path = '/content/gdrive/My Drive/deep_learning/assignment4/reuters_valid.txt' # Update me"
      ],
      "execution_count": 2,
      "outputs": [
        {
          "output_type": "stream",
          "name": "stdout",
          "text": [
            "Mounted at /content/gdrive\n"
          ]
        }
      ]
    },
    {
      "cell_type": "markdown",
      "metadata": {
        "id": "hdkp4HLW4KUE"
      },
      "source": [
        "As we did in some of our examples (e.g., training transformers on IMDB reviews) we will be using PyTorch's `torchtext` utilities to help us load, process,\n",
        "and batch the data. We'll be using a `TabularDataset` to load our data, which works well on structured\n",
        "CSV data with fixed columns (e.g. a column for the sequence, a column for the label). Our tabular dataset\n",
        "is even simpler: we have no labels, just some text. So, we are treating our data as a table with one field\n",
        "representing our sequence."
      ]
    },
    {
      "cell_type": "code",
      "metadata": {
        "id": "I2PjMSho4KUF"
      },
      "source": [
        "import torchtext.legacy.data as data\n",
        "\n",
        "# Tokenization function to separate a headline into words\n",
        "def tokenize_headline(headline):\n",
        "    \"\"\"Returns the sequence of words in the string headline. We also\n",
        "    prepend the \"<bos>\" or beginning-of-string token, and append the\n",
        "    \"<eos>\" or end-of-string token to the headline.\n",
        "    \"\"\"\n",
        "    return (\"<bos> \" + headline + \" <eos>\").split()\n",
        "\n",
        "# Data field (column) representing our *text*.\n",
        "text_field = data.Field(\n",
        "    sequential=True,            # this field consists of a sequence\n",
        "    tokenize=tokenize_headline, # how to split sequences into words\n",
        "    include_lengths=True,       # to track the length of sequences, for batching\n",
        "    batch_first=True,           # similar to batch_first=True used in nn.RNN demonstrated in lecture\n",
        "    use_vocab=True)             # to turn each character into an integer index\n",
        "train_data = data.TabularDataset(\n",
        "    path=train_path,                # data file path\n",
        "    format=\"tsv\",                   # fields are separated by a tab\n",
        "    fields=[('title', text_field)]) # list of fields (we have only one)"
      ],
      "execution_count": 3,
      "outputs": []
    },
    {
      "cell_type": "markdown",
      "metadata": {
        "id": "7TNlqCRM4KUF"
      },
      "source": [
        "### Part (a) -- 5%\n",
        "\n",
        "Draw histograms of the number of words per headline in our training set.\n",
        "Excluding the `<bos>` and `<eos>` tags in your computation.\n",
        "Explain why we would be interested in such histograms."
      ]
    },
    {
      "cell_type": "code",
      "metadata": {
        "id": "mBPd0ezl4KUG",
        "colab": {
          "base_uri": "https://localhost:8080/",
          "height": 265
        },
        "outputId": "846caed6-6877-473a-80c0-b7332d30cc17"
      },
      "source": [
        "# Include your histogram and your written explanations\n",
        "\n",
        "# Here is an example of how to plot a histogram in matplotlib:\n",
        "#plt.hist(np.random.normal(0, 1, 40), bins=20)\n",
        "\n",
        "# Here are some sample code that uses the train_data object:\n",
        "\n",
        "headline_list = [];\n",
        "for headline in train_data:\n",
        "    headline_list.append(np.size(headline.title[1:-1]));\n",
        "\n",
        "plt.hist(headline_list, bins=20);\n"
      ],
      "execution_count": 4,
      "outputs": [
        {
          "output_type": "display_data",
          "data": {
            "image/png": "[encoded data removed]",
            "text/plain": [
              "<Figure size 432x288 with 1 Axes>"
            ]
          },
          "metadata": {
            "needs_background": "light"
          }
        }
      ]
    },
    {
      "cell_type": "markdown",
      "metadata": {
        "id": "CWnes5SVRwxl"
      },
      "source": [
        "**Write your explanation here:**\n",
        "Knowing the amount of words in each headline is important to understand the sequence length, so that we will know what is the length of the input vector."
      ]
    },
    {
      "cell_type": "markdown",
      "metadata": {
        "id": "gm3ysTzh4KUG"
      },
      "source": [
        "### Part (b) -- 5%\n",
        "\n",
        "How many distinct words appear in the training data?\n",
        "Exclude the `<bos>` and `<eos>` tags in your computation."
      ]
    },
    {
      "cell_type": "code",
      "metadata": {
        "id": "2x5wf7h14KUG",
        "colab": {
          "base_uri": "https://localhost:8080/"
        },
        "outputId": "f4fe7d11-2a16-45d0-d74f-617d085c2025"
      },
      "source": [
        "# Report your values here. Make sure that you report the actual values,\n",
        "# and not just the code used to get those values\n",
        "\n",
        "# You might find the python class Counter from the collections package useful\n",
        "\n",
        "# The amount of distinct words in the training data is 51298.\n",
        "\n",
        "from collections import Counter\n",
        "\n",
        "word_count = Counter();\n",
        "for headline in train_data:\n",
        "  for word in headline.title[1:-1]:\n",
        "    if word in word_count:\n",
        "      word_count[word] = word_count[word] + 1;\n",
        "    else:\n",
        "      word_count[word] = 1;\n",
        "\n",
        "print(word_count['dollarisation'])\n",
        "print(\"The amount of distinct words in the training data is\", len(word_count.keys()))"
      ],
      "execution_count": 57,
      "outputs": [
        {
          "output_type": "stream",
          "name": "stdout",
          "text": [
            "5\n",
            "The amount of distinct words in the training data is 51298\n"
          ]
        }
      ]
    },
    {
      "cell_type": "markdown",
      "metadata": {
        "id": "e5lgEwiM4KUH"
      },
      "source": [
        "### Part (c) -- 5%\n",
        "\n",
        "The distribution of *words* will have a long tail, meaning that there are some words\n",
        "that will appear very often, and many words that will appear infrequently. How many words\n",
        "appear exactly once in the training set? Exactly twice?\n",
        "Print these numbers below"
      ]
    },
    {
      "cell_type": "code",
      "metadata": {
        "id": "RpkUDVoC4KUH",
        "colab": {
          "base_uri": "https://localhost:8080/"
        },
        "outputId": "e86f7dff-753b-447d-c96c-cec455b4b67b"
      },
      "source": [
        "# Report your values here. Make sure that you report the actual values,\n",
        "# and not just the code used to get those values\n",
        "\n",
        "# 19854 words appear exactly once.\n",
        "# 7193 words appear exactly twice\n",
        "\n",
        "amount_of_1_appears = 0;\n",
        "amount_of_2_appears = 0;\n",
        "for word, count in word_count.items():\n",
        "    if count == 1:\n",
        "        amount_of_1_appears = amount_of_1_appears + 1;\n",
        "    elif count == 2:\n",
        "        amount_of_2_appears = amount_of_2_appears + 1;\n",
        "\n",
        "print(amount_of_1_appears)\n",
        "print(amount_of_2_appears)"
      ],
      "execution_count": 6,
      "outputs": [
        {
          "output_type": "stream",
          "name": "stdout",
          "text": [
            "19854\n",
            "7193\n"
          ]
        }
      ]
    },
    {
      "cell_type": "markdown",
      "metadata": {
        "id": "K3RKPwdI4KUI"
      },
      "source": [
        "### Part (d) -- 5%\n",
        "We will replace the infrequent\n",
        "words with an `<unk>` tag, instead of learning embeddings for these rare words. `torchtext` also provides us with the `<pad>` tag used for padding short sequences for batching.\n",
        "We will thus only model the top 9995 words in the training set, excluding the tags\n",
        "`<bos>`, `<eos>`, `<unk>`, and `<pad>`.\n",
        "\n",
        "What percentage of total word count(whole dataset) will be supported? Alternatively, what percentage\n",
        "of total word count(whole dataset) in the training set will be set to the `<unk>` tag?"
      ]
    },
    {
      "cell_type": "code",
      "metadata": {
        "id": "Cva5DC_64KUI",
        "colab": {
          "base_uri": "https://localhost:8080/"
        },
        "outputId": "b64d1886-45ab-4250-bd44-0e4444c44560"
      },
      "source": [
        "# Report your values here. Make sure that you report the actual values,\n",
        "# and not just the code used to get those values\n",
        "\n",
        "# 93.978% of the total word count will be supported.\n",
        "\n",
        "most_common_words_count = 0;\n",
        "for obj, cnt in word_count.most_common(9995):\n",
        "    most_common_words_count = most_common_words_count + cnt;\n",
        "\n",
        "total_words_not_unk = most_common_words_count\n",
        "total_words = sum(word_count.values())\n",
        "percent_supported = total_words_not_unk / total_words\n",
        "\n",
        "print(\"The percentage of the total word count that will be supported is \",percent_supported)\n",
        "print(total_words_not_unk)\n",
        "print(total_words)"
      ],
      "execution_count": 54,
      "outputs": [
        {
          "output_type": "stream",
          "name": "stdout",
          "text": [
            "The percentage of the total word count that will be supported is  0.9397857393100142\n",
            "1783859\n",
            "1898155\n"
          ]
        }
      ]
    },
    {
      "cell_type": "markdown",
      "metadata": {
        "id": "SBV8CTyk4KUJ"
      },
      "source": [
        "The `torchtext` package will help us keep track of our list of unique words, known\n",
        "as a **vocabulary**. A vocabulary also assigns a unique integer index to each word."
      ]
    },
    {
      "cell_type": "code",
      "metadata": {
        "colab": {
          "base_uri": "https://localhost:8080/"
        },
        "id": "GRLFF8j14KUJ",
        "outputId": "b34610f2-2c9e-476a-ad41-af51b127916f"
      },
      "source": [
        "# Build the vocabulary based on the training data. The vocabulary\n",
        "# can have at most 9997 words (9995 words + the <bos> and <eos> token)\n",
        "text_field.build_vocab(train_data, max_size=9997)\n",
        "\n",
        "# This vocabulary object will be helpful for us\n",
        "vocab = text_field.vocab\n",
        "print(vocab.stoi[\"hello\"]) # for instances, we can convert from string to (unique) index\n",
        "print(vocab.itos[10])      # ... and from word index to string\n",
        "\n",
        "# The size of our vocabulary  \n",
        "vocab_size = len(text_field.vocab.stoi) \n",
        "\n",
        "# Here are the two tokens that torchtext adds for us:\n",
        "print(vocab.itos[0]) # <unk> represents an unknown word not in our vocabulary\n",
        "print(vocab.itos[1]) # <pad> will be used to pad short sequences for batching   "
      ],
      "execution_count": 8,
      "outputs": [
        {
          "output_type": "stream",
          "name": "stdout",
          "text": [
            "0\n",
            "on\n",
            "<unk>\n",
            "<pad>\n"
          ]
        }
      ]
    },
    {
      "cell_type": "markdown",
      "metadata": {
        "id": "bnoMpzC14KUK"
      },
      "source": [
        "## Question 2. Text Autoencoder (40%)\n",
        "\n",
        "Building a text autoencoder is a little more complicated than an image autoencoder like we did in class. So\n",
        "we will need to thoroughly understand the model that we want to build before actually building it. Note that the best and fastest way to complete this assignment is to spend time upfront understanding the architecture. The explanations are quite dense, but it is important to understand the operation of this model. The rationale here is similar in nature to the `seq2seq` RNN model we discussed in class, only we are dealing with unsupervised learning here rather than machine translation. \n",
        "\n",
        "# Architecture description\n",
        "Here is a diagram showing our desired architecture:\n",
        "\n",
        "<img src='https://drive.google.com/uc?id=1UaXAYQvmFbBcuSBQb7ozjSliuVn7bP1Q'>\n",
        "\n",
        "There are two main components to the model: the **encoder** and the **decoder**.\n",
        "As always with neural networks, we'll first describe how to make\n",
        "**predictions** with of these components. Let's get started:\n",
        "\n",
        "The **encoder** will take a sequence of words (a headline) as *input*, and produce an\n",
        "embedding (a vector) that represents the entire headline. In the diagram above,\n",
        "the vector ${\\bf h}^{(7)}$ is the vector embedding containing information about \n",
        "the entire headline.  This portion is very similar\n",
        "to the sentiment analysis RNN that we discussed in lecture (but without the fully-connected\n",
        "layer that makes a prediction).\n",
        "\n",
        "The **decoder** will take an embedding (in the diagram, the vector ${\\bf h}^{(7)}$) as input,\n",
        "and uses a separate RNN to **generate a sequence of words**. To generate a sequence of words,\n",
        "the decoder needs to do the following:\n",
        "\n",
        "\n",
        "1.   Determine the previous word that was generated. This previous word will act as ${\\bf x}^{(t)}$\n",
        "   to our RNN, and will be used to update the hidden state ${\\bf m}^{(t)}$. Since each of our\n",
        "   sequences begin with the `<bos>` token, we'll set ${\\bf x}^{(1)}$ to be the `<bos>` token.\n",
        "2.   Compute the updates to the hidden state ${\\bf m}^{(t)}$ based on the previous hidden state\n",
        "   ${\\bf m}^{(t-1)}$ and ${\\bf x}^{(t)}$. Intuitively, this hidden state vector ${\\bf m}^{(t)}$\n",
        "   is a representation of *all the words we still need to generate*.\n",
        "3. We'll use a fully-connected layer to take a hidden state ${\\bf m}^{(t)}$, and determine\n",
        "   *what the next word should be*. This fully-connected layer solves a *classification problem*,\n",
        "   since we are trying to choose a word out of $K=$ `vocab_size` distinct words. As in a classification\n",
        "   problem, the fully-connected neural network will compute a *probability distribution* over\n",
        "   these `vocab_size` words. In the diagram, we are using ${\\bf z}^{(t)}$ to represent the logits,\n",
        "   or the pre-softmax activation values representing the probability distribution.\n",
        "4. We will need to *sample* an actual word from this probability distribution ${\\bf z}^{(t)}$.\n",
        "   We can do this in a number of ways, which we'll discuss in question 3. For now, you can \n",
        "   imagine your favourite way of picking a word given a distribution over words.\n",
        "5. This word we choose will become the next input ${\\bf x}^{(t+1)}$ to our RNN, which is used\n",
        "   to update our hidden state ${\\bf m}^{(t+1)}$, i.e., to determine what are the remaining\n",
        "   words to be generated.\n",
        "\n",
        "We can repeat this process until we see an `<eos>` token generated, or until the generated\n",
        "sequence becomes too long.\n",
        "\n",
        "# Training the architecture\n",
        "While our autoencoder produces a sequence, computing the loss by comparing the complete generated sequence to the ground truth (the encoder input) gives rise to multiple challanges. One is that the generated\n",
        "sequence might be longer or shorter than the actual sequence, meaning that there may\n",
        "be more/fewer ${\\bf z}^{(t)}$s than ground-truth words. Another more insidious issue\n",
        "is that the **gradients will become very high-variance and unstable**, because\n",
        "**early mistakes will easily throw the model off-track**. Early in training,\n",
        "our model is unlikely to produce the right answer in step $t=1$, so the gradients\n",
        "we obtain based on the other time steps will not be very useful.\n",
        "\n",
        "At this point, you might have some ideas about \"hacks\" we can use to make training\n",
        "work. Fortunately, there is one very well-established solution called\n",
        "**teacher forcing** which we can use for training:\n",
        "instead of *sampling* the next word based on ${\\bf z}^{(t)}$, we will forget sampling,\n",
        "and use the **ground truth** ${\\bf x}^{(t)}$ as the input in the next step.\n",
        "\n",
        "Here is a diagram showing how we can use **teacher forcing** to train our model:\n",
        " \n",
        "<img src='https://drive.google.com/uc?id=1NXlimWaCviDfP8DHlIzyQR1Ie7sxfPuY'>\n",
        "\n",
        "We will use the RNN generator to compute the logits\n",
        "${\\bf z}^{(1)},{\\bf z}^{(2)},  \\cdots {\\bf z}^{(T)}$. These distributions\n",
        "can be compared to the ground-truth words using the cross-entropy loss.\n",
        "The loss function for this model will be the sum of the losses across each $t \\in \\{1,\\ldots,T\\}$.\n",
        "\n",
        "We'll train the encoder and decoder model simultaneously. There are several components\n",
        "to our model that contain tunable weights:\n",
        "\n",
        "- The word embedding that maps a word to a vector representation.\n",
        "  In theory, we could use GloVe embeddings, as we did in class. In this assignment we will not do that, but learn the word embedding from data.\n",
        "  The word embedding component is represented with blue arrows in the diagram.\n",
        "- The encoder RNN (which will use GRUs) that computes the\n",
        "  embedding over the entire headline. The encoder RNN \n",
        "  is represented with black arrows in the diagram.\n",
        "- The decoder RNN (which will also use GRUs) that computes\n",
        "  hidden states, which are vectors representing what words are to be generated.\n",
        "  The decoder RNN is represented with gray arrows in the diagram.\n",
        "- The **projection MLP** (a fully-connected layer) that computes\n",
        "  a distribution over the next word to generate, given a decoder RNN hidden\n",
        "  state. The projection is represented with green arrows \n"
      ]
    },
    {
      "cell_type": "markdown",
      "metadata": {
        "id": "Dk9WDEC90ScA"
      },
      "source": [
        "\n",
        "## Part (a) -- 20%\n",
        "\n",
        "Complete the code for the AutoEncoder class below by:\n",
        "\n",
        "1. Filling in the missing numbers in the `__init__` method using\n",
        "   the parameters `vocab_size`, `emb_size`, and `hidden_size`.  \n",
        "2. Complete the `forward` method, which uses teacher forcing\n",
        "   and computes the logits ${\\bf z}^{(t)}$ of the reconstruction of\n",
        "   the sequence. \n",
        "\n",
        "You should first try to understand the `encode` and `decode` methods,\n",
        "which are written for you. The `encode` method bears much similarity to the\n",
        "RNN we wrote in class for sentiment analysis.  The `decode` method is\n",
        "a bit more challenging. You might want to scroll down to the\n",
        "`sample_sequence` function to see how this function will be called.\n",
        "\n",
        "You can (but don't have to) use the `encode` and `decode` method in\n",
        "your `forward` method. In either case, be careful of the input\n",
        "that you feed into ether `decode` or to `self.decoder_rnn`.\n",
        "Refer to the teacher-forcing diagram.\n",
        "**bold text** Notice that batch_first is set to True, understand how deal with it."
      ]
    },
    {
      "cell_type": "code",
      "metadata": {
        "id": "ey4tslhD4KUO"
      },
      "source": [
        "class AutoEncoder(nn.Module):\n",
        "    def __init__(self, vocab_size, emb_size, hidden_size):\n",
        "        \"\"\"\n",
        "        A text autoencoder. The parameters \n",
        "            - vocab_size: number of unique words/tokens in the vocabulary\n",
        "            - emb_size: size of the word embeddings $x^{(t)}$\n",
        "            - hidden_size: size of the hidden states in both the\n",
        "                           encoder RNN ($h^{(t)}$) and the\n",
        "                           decoder RNN ($m^{(t)}$)\n",
        "        \"\"\"\n",
        "        super().__init__()\n",
        "        self.embed = nn.Embedding(num_embeddings=vocab_size, # TODO\n",
        "                                  embedding_dim=emb_size)  # TODO\n",
        "        self.encoder_rnn = nn.GRU(input_size=emb_size, #TODO\n",
        "                                  hidden_size=hidden_size, #TODO\n",
        "                                  batch_first=True)\n",
        "        self.decoder_rnn = nn.GRU(input_size=emb_size, #TODO\n",
        "                                  hidden_size=hidden_size, #TODO\n",
        "                                  batch_first=True)\n",
        "        self.proj = nn.Linear(in_features=hidden_size, # TODO\n",
        "                              out_features=vocab_size) # TODO\n",
        "\n",
        "    def encode(self, inp):\n",
        "        \"\"\"\n",
        "        Computes the encoder output given a sequence of words.\n",
        "        \"\"\"\n",
        "        emb = self.embed(inp)\n",
        "        out, last_hidden = self.encoder_rnn(emb)\n",
        "        return last_hidden\n",
        "\n",
        "    def decode(self, inp, hidden=None):\n",
        "        \"\"\"\n",
        "        Computes the decoder output given a sequence of words, and\n",
        "        (optionally) an initial hidden state.\n",
        "        \"\"\"\n",
        "        emb = self.embed(inp)\n",
        "        out, last_hidden = self.decoder_rnn(emb, hidden)\n",
        "        out_seq = self.proj(out)\n",
        "        return out_seq, last_hidden\n",
        "\n",
        "    def forward(self, inp):\n",
        "        \"\"\"\n",
        "        Compute both the encoder and decoder forward pass\n",
        "        given an integer input sequence inp with shape [batch_size, seq_length],\n",
        "        with inp[a,b] representing the (index in our vocabulary of) the b-th word\n",
        "        of the a-th training sample.\n",
        "\n",
        "        This function should return the logits $z^{(t)}$ in a tensor of shape\n",
        "        [batch_size, seq_length - 1, vocab_size], computed using *teaching forcing*.\n",
        "\n",
        "        The (seq_length - 1) part is not a typo. If you don't understand why\n",
        "        we need to subtract 1, refer to the teacher-forcing diagram above.\n",
        "        \"\"\"\n",
        "\n",
        "        # TODO\n",
        "\n",
        "        last_hidden = self.encode(inp)\n",
        "        out_seq, last_hidden = self.decode(inp[:, :-1],last_hidden)\n",
        "        return out_seq"
      ],
      "execution_count": 9,
      "outputs": []
    },
    {
      "cell_type": "markdown",
      "metadata": {
        "id": "_uwpjvIw4KUQ"
      },
      "source": [
        "### Part (b) -- 10%\n",
        "\n",
        "To check that your model is set up correctly, we'll train our autoencoder\n",
        "neural network for at least 300 iterations to memorize this sequence:"
      ]
    },
    {
      "cell_type": "code",
      "metadata": {
        "id": "sJmPNMnY4KUQ"
      },
      "source": [
        "\n",
        "headline = train_data[42].title\n",
        "input_seq = torch.Tensor([vocab.stoi[w] for w in headline]).long().unsqueeze(0)"
      ],
      "execution_count": 10,
      "outputs": []
    },
    {
      "cell_type": "markdown",
      "metadata": {
        "id": "Qj55uU-C4KUQ"
      },
      "source": [
        "We are looking for the way that you set up your loss function\n",
        "corresponding to the figure above.\n",
        "Be  careful of off-by-one errors here.\n",
        "\n",
        "\n",
        "Note that the Cross Entropy Loss expects a rank-2 tensor as its first\n",
        "argument (the output of the network), and a rank-1 tensor as its second argument (the true label). You will\n",
        "need to properly reshape your data to be able to compute the loss."
      ]
    },
    {
      "cell_type": "code",
      "metadata": {
        "id": "aScYWbBx4KUQ",
        "colab": {
          "base_uri": "https://localhost:8080/"
        },
        "outputId": "eba7752c-bbd0-4725-fde5-5f2c8e017222"
      },
      "source": [
        "\n",
        "model = AutoEncoder(vocab_size, 128, 128)\n",
        "optimizer = optim.Adam(model.parameters(), lr=0.001)\n",
        "criterion = nn.CrossEntropyLoss()\n",
        "\n",
        "for it in range(300):\n",
        "\n",
        "    result = model(input_seq)\n",
        "    loss = criterion(result.view(-1,vocab_size),input_seq[:,:-1].view(-1))\n",
        "    optimizer.zero_grad()\n",
        "    loss.backward();\n",
        "    optimizer.step()\n",
        "\n",
        "    if (it+1) % 50 == 0:\n",
        "        print(\"[Iter %d] Loss %f\" % (it+1, float(loss)))"
      ],
      "execution_count": 58,
      "outputs": [
        {
          "output_type": "stream",
          "name": "stdout",
          "text": [
            "[Iter 50] Loss 0.153947\n",
            "[Iter 100] Loss 0.033117\n",
            "[Iter 150] Loss 0.019585\n",
            "[Iter 200] Loss 0.013153\n",
            "[Iter 250] Loss 0.009605\n",
            "[Iter 300] Loss 0.007389\n"
          ]
        }
      ]
    },
    {
      "cell_type": "markdown",
      "metadata": {
        "id": "SWKYC3z34KUR"
      },
      "source": [
        "### Part (c) -- 4%\n",
        "\n",
        "Once you are satisfied with your model, encode your input using\n",
        "the RNN encoder, and sample some sequences from the decoder. The \n",
        "sampling code is provided to you, and performs the computation\n",
        "from the first diagram (without teacher forcing).\n",
        "\n",
        "Note that we are sampling from a multi-nomial distribution described\n",
        "by the logits $z^{(t)}$. For example, if our distribution is [80%, 20%]\n",
        "over a vocabulary of two words, then we will choose the first word\n",
        "with 80% probability and the second word with 20% probability.\n",
        "\n",
        "Call `sample_sequence` at least 5 times, with the default temperature\n",
        "value. Make sure to include the generated sequences in your PDF\n",
        "report."
      ]
    },
    {
      "cell_type": "code",
      "metadata": {
        "id": "6vjVvmn14KUR",
        "colab": {
          "base_uri": "https://localhost:8080/"
        },
        "outputId": "bf55a0f4-c4f5-4652-ac4c-f26e4fd0d415"
      },
      "source": [
        "def sample_sequence(model, hidden, max_len=20, temperature=1):\n",
        "    \"\"\"\n",
        "    Return a sequence generated from the model's decoder\n",
        "        - model: an instance of the AutoEncoder model\n",
        "        - hidden: a hidden state (e.g. computed by the encoder)\n",
        "        - max_len: the maximum length of the generated sequence\n",
        "        - temperature: described in Part (d)\n",
        "    \"\"\"\n",
        "    # We'll store our generated sequence here\n",
        "    generated_sequence = []\n",
        "    # Set input to the <BOS> token\n",
        "    inp = torch.Tensor([text_field.vocab.stoi[\"<bos>\"]]).long()\n",
        "    for p in range(max_len):\n",
        "        # compute the output and next hidden unit\n",
        "        output, hidden = model.decode(inp.unsqueeze(0), hidden)\n",
        "        # Sample from the network as a multinomial distribution\n",
        "        output_dist = output.data.view(-1).div(temperature).exp()\n",
        "        top_i = int(torch.multinomial(output_dist, 1)[0])\n",
        "        # Add predicted word to string and use as next input\n",
        "        word = text_field.vocab.itos[top_i]\n",
        "        # Break early if we reach <eos>\n",
        "        if word == \"<eos>\":\n",
        "            break\n",
        "        generated_sequence.append(word)\n",
        "        inp = torch.Tensor([top_i]).long()\n",
        "    return generated_sequence\n",
        "\n",
        "# Your solutions go here\n",
        "model = AutoEncoder(vocab_size, 128, 128)\n",
        "\n",
        "#torch.LongTensor([vocab.stoi[w] for w in src])\n",
        "#for headline in train_data:\n",
        "last_hidden = model.encode(input_seq)\n",
        "generated_sequence = sample_sequence(model,last_hidden)\n",
        "print(generated_sequence)\n",
        "generated_sequence = sample_sequence(model,last_hidden)\n",
        "print(generated_sequence)\n",
        "generated_sequence = sample_sequence(model,last_hidden)\n",
        "print(generated_sequence)\n",
        "generated_sequence = sample_sequence(model,last_hidden)\n",
        "print(generated_sequence)\n",
        "generated_sequence = sample_sequence(model,last_hidden)\n",
        "print(generated_sequence)"
      ],
      "execution_count": 12,
      "outputs": [
        {
          "output_type": "stream",
          "name": "stdout",
          "text": [
            "['spark', 'job', 'vtb', 'waste', 'expensive', 'edf', 'partisan', 'clinical', 'y/y', 'entertainment', 'run-off', 'socialists', 'rio', 'producers', 'ahead', 'nineteen', 'computers', 'bjp', 'gets', 'greece']\n",
            "['continental', 'high-level', '-paper', 'spare', 'hawk', 'jet', 'prize', 'solutions', 'ankara', '_num_-man', 'ill-fated', 'airspace', 'bombers', 'onto', 'zarif', 'brace', 'errors', 'auto', 'hunting', 'moroccan']\n",
            "['instagram', 'anadolu', 'moves', 'jlr', 'movies', 'destructive', 'stamps', 'logs', 'heat', 'batch', 'halve', 'surges', 'dominican', 'chevron', 'shows', 'junta', 'components', 'explosion', 'prepared', 'levy']\n",
            "['telecom', 'century', 'inspections', 'flag', 'railway', 'flee', 'fall', '20,000', 'start-ups', 'atmosphere', 'lessors', 'gaga', 'overhaul', 'follow', 'purchase', 'graft', 'celebrations', 'instant', 'waste', 'everest']\n",
            "['fragile', 'chipotle', 'lazard', 'churns', 'smuggling', 'markets-u.s.', 'high-level', 'q2', 'predators', 'norway', 'poultry', 'ammunition', 'stuck', 'colony', 'soldier', 'within', 'has', 'hundred', 'hna', 'concussion']\n"
          ]
        }
      ]
    },
    {
      "cell_type": "markdown",
      "source": [
        "**Sequence 1:**\n",
        "\n",
        "['spark', 'job', 'vtb', 'waste', 'expensive', 'edf', 'partisan', 'clinical', 'y/y', 'entertainment', 'run-off', 'socialists', 'rio', 'producers', 'ahead', 'nineteen', 'computers', 'bjp', 'gets', 'greece']\n",
        "\n",
        "**Sequence 2:**\n",
        "\n",
        "\n",
        "['continental', 'high-level', '-paper', 'spare', 'hawk', 'jet', 'prize', 'solutions', 'ankara', '_num_-man', 'ill-fated', 'airspace', 'bombers', 'onto', 'zarif', 'brace', 'errors', 'auto', 'hunting', 'moroccan']\n",
        "\n",
        "**Sequence 3:**\n",
        "\n",
        "\n",
        "['instagram', 'anadolu', 'moves', 'jlr', 'movies', 'destructive', 'stamps', 'logs', 'heat', 'batch', 'halve', 'surges', 'dominican', 'chevron', 'shows', 'junta', 'components', 'explosion', 'prepared', 'levy']\n",
        "\n",
        "**Sequence 4:**\n",
        "\n",
        "\n",
        "['telecom', 'century', 'inspections', 'flag', 'railway', 'flee', 'fall', '20,000', 'start-ups', 'atmosphere', 'lessors', 'gaga', 'overhaul', 'follow', 'purchase', 'graft', 'celebrations', 'instant', 'waste', 'everest']\n",
        "\n",
        "**Sequence 5:**\n",
        "\n",
        "\n",
        "['fragile', 'chipotle', 'lazard', 'churns', 'smuggling', 'markets-u.s.', 'high-level', 'q2', 'predators', 'norway', 'poultry', 'ammunition', 'stuck', 'colony', 'soldier', 'within', 'has', 'hundred', 'hna', 'concussion']\n"
      ],
      "metadata": {
        "id": "PHkD6OPen8So"
      }
    },
    {
      "cell_type": "markdown",
      "metadata": {
        "id": "0T7gcPnn4KUR"
      },
      "source": [
        "### Part (d) -- 6%\n",
        "\n",
        "The multi-nomial distribution can be manipulated using the `temperature`\n",
        "setting. This setting can be used to make the distribution \"flatter\" (e.g.\n",
        "more likely to generate different words) or \"peakier\" (e.g. less likely\n",
        "to generate different words).\n",
        "\n",
        "Call `sample_sequence` at least 5 times each for at least 3 different\n",
        "temperature settings (e.g. 1.5, 2, and 5). Explain why we generally\n",
        "don't want the temperature setting to be too **large**."
      ]
    },
    {
      "cell_type": "code",
      "metadata": {
        "id": "jA_S0cmE4KUR",
        "colab": {
          "base_uri": "https://localhost:8080/"
        },
        "outputId": "e763bfda-f5fb-4f8e-9e9d-5779f44f82cd"
      },
      "source": [
        "# Include the generated sequences and explanation in your PDF report.\n",
        "\n",
        "def print_temp(temp):\n",
        "  print(\"Result for temperature = \",temp,\":\")\n",
        "  for i in range(5):\n",
        "    generated_sequence = sample_sequence(model,last_hidden,temperature=temp)\n",
        "    print(generated_sequence)\n",
        "\n",
        "print_temp(1.5)\n",
        "print_temp(2)\n",
        "print_temp(100)\n"
      ],
      "execution_count": 13,
      "outputs": [
        {
          "output_type": "stream",
          "name": "stdout",
          "text": [
            "Result for temperature =  1.5 :\n",
            "['values', 'develop', 'kurdish', 'delay', 'cell', 'smaller', 'incidents', '_num_-first', 'oil', 'bolster', '-le', 'franchise', 'gaps', 'belgium', 'pleased', 'rogers', 'expelled', 'juul', 'compliance', 'quick']\n",
            "['praises', 'germans', 'admit', 'slave', 'frost', 'urgently', 'yum', 'duchess', '_num_-former', 'toronto', 'ninth', '-ceo', 'father', 'discipline', 'looming', 'paves', 'respects', 'pence', 'looms', 'rollout']\n",
            "['stress', 'canopy', 'k-pop', 'failures', 'ecuador', 'stricter', 'teargas', 'mekong', '_num_-protesters', 'grim', '_num_-bp', 'yandex', 'jailed', 'st', 'detained', 'polio', 'ethics', 'scotiabank', 'km', 'rate']\n",
            "['innovation', 'del', 'dr', 'marriage', 'roku', 'peso', 'human', 'angeles', 'iss', 'oilfield', 'a220', 'quest', 'players', 'intervene', 'promote', 'crossing', ';', 'settling', 'stars', 'bumpy']\n",
            "['injuring', 'drinks', 'pc', 'alitalia', 'oyo', '_num_-southwest', 'petrochemical', 'towards', 'offload', 'schumer', 'presents', 'abortion', 'defying', 'drinks', 'demise', 'now', 'moment', 'dismissal', 'arts', 'cost']\n",
            "Result for temperature =  2 :\n",
            "['cable', 'connect', 'canary', 'ontario', 'concessions', 'vintage', 'fury', 'animals', 'seahawks', 'strength', 'generic', 'germans', 'divers', 'blacks', 'majeure', 'woods', 'union', 'intense', '_num_-three', 'vegas']\n",
            "['urge', 'tsmc', 'improve', 'units', 'peloton', 'money', 'during', 'development', 'corrupt', 'houses', 'destroys', 'beating', 'lufthansa', 'militant', 'rulers', 'enriched', 'movies', 'rock', 'sliding', 'orderly']\n",
            "['traveling', 'cuba', 'restrict', 'reality', 'art', 'shown', 'linking', 'pmis', 'quarantined', 'sun', 'cee', 'capesize', 'whole', 'rappi', 'quietly', 'quickly', '-eu', 'renzi', '-regulator', 'activist']\n",
            "['thyssenkrupp', 'sports', 'machado', 'demonstrate', 'lighthizer', 'skid', 'stuttgart', 'questioned', 'yandex', 'population', 'adam', 'frozen', 'macau', 'caucuses', 'lung', 'prospects', 'civilian', 'himself', 'void', 'rocky']\n",
            "['warn', 'cop', 'demonstrations', 'write', 'fy', 'denmark', 'prepares', '_num_-thousands', 'submarine', 'trees', 'routine', 'swings', 'usgs', 'getting', '_num_-uefa', 'harm', 'albemarle', 'mounts', 'families', 'nerves']\n",
            "Result for temperature =  100 :\n",
            "['warships', 'marks', 'missed', 'u.s.-uk', 'violated', 'tense', 'pitt', 'shop', 'pick-up', 'legacy', 'automated', 'commodity', 'strains', 'census', 'fully', 'uefa', 'looming', 'xi', '-president', 'advances']\n",
            "['_num_-south', 'ride', 'settles', 'flares', 'breakdown', 'release', 'insulin', 'obrador', 'whirlpool', 'decide', 'biofuels', 'bought', '11th', 'sail', 'midstream', 'exports', '...', 'set', 'english', 'tunnel']\n",
            "['barron', 'aerospace', 'chinese', 'critic', 'names', 'listed', 'dp', 'evacuees', 'domain', 'p.m.', 'hacker', 'stamp', 'almost', 'killing', 'ticket', 'moldova', 'ousting', 'agreements', 'expels', 'impeach']\n",
            "['cement', 'democrats', 'snap', 'eve', 'wesfarmers', 'contest', 'goma', 'ask', 'followed', 'prospect', 'regular', 'terms', 'capgemini', 'dmz', 'interfering', 'site', 'restored', 'park', 'campbell', 'mask']\n",
            "['babis', 'refugee', 'markets-world', 'cds', 'transport', 'goal', 'frost', 'airbnb', 'fintechs', 'glory', 'strategic', 'asiana', 'merlin', 'mln', 'australians', 'hughes', 'anderson', 'display', 'restricts', 'ramps']\n"
          ]
        }
      ]
    },
    {
      "cell_type": "markdown",
      "source": [
        "**Result for temperature =  1.5 :**\n",
        "\n",
        "['values', 'develop', 'kurdish', 'delay', 'cell', 'smaller', 'incidents', '_num_-first', 'oil', 'bolster', '-le', 'franchise', 'gaps', 'belgium', 'pleased', 'rogers', 'expelled', 'juul', 'compliance', 'quick']\n",
        "\n",
        "\n",
        "['praises', 'germans', 'admit', 'slave', 'frost', 'urgently', 'yum', 'duchess', '_num_-former', 'toronto', 'ninth', '-ceo', 'father', 'discipline', 'looming', 'paves', 'respects', 'pence', 'looms', 'rollout']\n",
        "\n",
        "\n",
        "['stress', 'canopy', 'k-pop', 'failures', 'ecuador', 'stricter', 'teargas', 'mekong', '_num_-protesters', 'grim', '_num_-bp', 'yandex', 'jailed', 'st', 'detained', 'polio', 'ethics', 'scotiabank', 'km', 'rate']\n",
        "\n",
        "\n",
        "['innovation', 'del', 'dr', 'marriage', 'roku', 'peso', 'human', 'angeles', 'iss', 'oilfield', 'a220', 'quest', 'players', 'intervene', 'promote', 'crossing', ';', 'settling', 'stars', 'bumpy']\n",
        "\n",
        "\n",
        "['injuring', 'drinks', 'pc', 'alitalia', 'oyo', '_num_-southwest', 'petrochemical', 'towards', 'offload', 'schumer', 'presents', 'abortion', 'defying', 'drinks', 'demise', 'now', 'moment', 'dismissal', 'arts', 'cost']\n",
        "\n",
        "\n",
        "**Result for temperature =  2 :**\n",
        "\n",
        "\n",
        "['cable', 'connect', 'canary', 'ontario', 'concessions', 'vintage', 'fury', 'animals', 'seahawks', 'strength', 'generic', 'germans', 'divers', 'blacks', 'majeure', 'woods', 'union', 'intense', '_num_-three', 'vegas']\n",
        "\n",
        "\n",
        "['urge', 'tsmc', 'improve', 'units', 'peloton', 'money', 'during', 'development', 'corrupt', 'houses', 'destroys', 'beating', 'lufthansa', 'militant', 'rulers', 'enriched', 'movies', 'rock', 'sliding', 'orderly']\n",
        "\n",
        "\n",
        "['traveling', 'cuba', 'restrict', 'reality', 'art', 'shown', 'linking', 'pmis', 'quarantined', 'sun', 'cee', 'capesize', 'whole', 'rappi', 'quietly', 'quickly', '-eu', 'renzi', '-regulator', 'activist']\n",
        "\n",
        "\n",
        "['thyssenkrupp', 'sports', 'machado', 'demonstrate', 'lighthizer', 'skid', 'stuttgart', 'questioned', 'yandex', 'population', 'adam', 'frozen', 'macau', 'caucuses', 'lung', 'prospects', 'civilian', 'himself', 'void', 'rocky']\n",
        "\n",
        "\n",
        "['warn', 'cop', 'demonstrations', 'write', 'fy', 'denmark', 'prepares', '_num_-thousands', 'submarine', 'trees', 'routine', 'swings', 'usgs', 'getting', '_num_-uefa', 'harm', 'albemarle', 'mounts', 'families', 'nerves']\n",
        "\n",
        "\n",
        "**Result for temperature =  100 :**\n",
        "\n",
        "\n",
        "['warships', 'marks', 'missed', 'u.s.-uk', 'violated', 'tense', 'pitt', 'shop', 'pick-up', 'legacy', 'automated', 'commodity', 'strains', 'census', 'fully', 'uefa', 'looming', 'xi', '-president', 'advances']\n",
        "\n",
        "\n",
        "['_num_-south', 'ride', 'settles', 'flares', 'breakdown', 'release', 'insulin', 'obrador', 'whirlpool', 'decide', 'biofuels', 'bought', '11th', 'sail', 'midstream', 'exports', '...', 'set', 'english', 'tunnel']\n",
        "\n",
        "\n",
        "['barron', 'aerospace', 'chinese', 'critic', 'names', 'listed', 'dp', 'evacuees', 'domain', 'p.m.', 'hacker', 'stamp', 'almost', 'killing', 'ticket', 'moldova', 'ousting', 'agreements', 'expels', 'impeach']\n",
        "\n",
        "\n",
        "['cement', 'democrats', 'snap', 'eve', 'wesfarmers', 'contest', 'goma', 'ask', 'followed', 'prospect', 'regular', 'terms', 'capgemini', 'dmz', 'interfering', 'site', 'restored', 'park', 'campbell', 'mask']\n",
        "\n",
        "\n",
        "['babis', 'refugee', 'markets-world', 'cds', 'transport', 'goal', 'frost', 'airbnb', 'fintechs', 'glory', 'strategic', 'asiana', 'merlin', 'mln', 'australians', 'hughes', 'anderson', 'display', 'restricts', 'ramps']"
      ],
      "metadata": {
        "id": "HGba7HihnCQK"
      }
    },
    {
      "cell_type": "markdown",
      "source": [
        "**Why it is best for the temperature to not be too large?**\n",
        "\n",
        "The probable answer is that when the temperature is too large the model is \"flatter\" and can therefore pick words which don't correlate."
      ],
      "metadata": {
        "id": "oOoME53onkIe"
      }
    },
    {
      "cell_type": "markdown",
      "metadata": {
        "id": "ZK4ptUb54KUS"
      },
      "source": [
        "## Question 3. Data augmentation (20%)\n",
        "\n",
        "It turns out that getting good results from a text auto-encoder is very difficult,\n",
        "and that it is very easy for our model to **overfit**. We have discussed several methods\n",
        "that we can use to prevent overfitting, and we'll introduce one more today:\n",
        "**data augmentation**.\n",
        "\n",
        "The idea behind data augmentation is to artificially increase the number of training\n",
        "examples by \"adding noise\" to the image. For example, during AlexNet training,\n",
        "the authors randomly cropped $224\\times 224$\n",
        "regions of a $256 \\times 256$ pixel image to increase the amount of training data.\n",
        "The authors also flipped the image left/right.\n",
        "Machine learning practitioners can also add Gaussian noise to the image.\n",
        "\n",
        "When we use data augmentation to train an *autoencoder*, we typically to only add\n",
        "the noise to the input, and expect the reconstruction to be *noise free*.\n",
        "This makes the task of the autoencoder even more difficult. An autoencoder trained\n",
        "with noisy inputs is called a **denoising auto-encoder**. For simplicity, we will\n",
        "*not* build a denoising autoencoder today.\n",
        "\n"
      ]
    },
    {
      "cell_type": "markdown",
      "metadata": {
        "id": "yieWyWqS4KUS"
      },
      "source": [
        "### Part (a) -- 5%\n",
        "\n",
        "We will add noise to our headlines using a few different techniques:\n",
        "\n",
        "1. Shuffle the words in the headline, taking care that words don't end up too far from where they were initially\n",
        "2. Drop (remove) some words \n",
        "3. Replace some words with a blank word (a `<pad>` token)\n",
        "4. Replace some words with a random word \n",
        "\n",
        "The code for adding these types of noise is provided for you:"
      ]
    },
    {
      "cell_type": "code",
      "metadata": {
        "id": "IGb3uL5U4KUS"
      },
      "source": [
        "def tokenize_and_randomize(headline,\n",
        "                           drop_prob=0.1,  # probability of dropping a word\n",
        "                           blank_prob=0.1, # probability of \"blanking\" out a word\n",
        "                           sub_prob=0.1,   # probability of substituting a word with a random one\n",
        "                           shuffle_dist=3): # maximum distance to shuffle a word\n",
        "    \"\"\"\n",
        "    Add 'noise' to a headline by slightly shuffling the word order,\n",
        "    dropping some words, blanking out some words (replacing with the <pad> token)\n",
        "    and substituting some words with random ones.\n",
        "    \"\"\"\n",
        "    headline = [vocab.stoi[w] for w in headline.split()]\n",
        "    n = len(headline)\n",
        "    # shuffle\n",
        "    headline = [headline[i] for i in get_shuffle_index(n, shuffle_dist)]\n",
        "\n",
        "    new_headline = [vocab.stoi['<bos>']]\n",
        "    for w in headline:\n",
        "        if random.random() < drop_prob:\n",
        "            # drop the word\n",
        "            pass\n",
        "        elif random.random() < blank_prob:\n",
        "            # replace with blank word\n",
        "            new_headline.append(vocab.stoi[\"<pad>\"])\n",
        "        elif random.random() < sub_prob:\n",
        "            # substitute word with another word\n",
        "            new_headline.append(random.randint(0, vocab_size - 1))\n",
        "        else:\n",
        "            # keep the original word\n",
        "            new_headline.append(w)\n",
        "    new_headline.append(vocab.stoi['<eos>'])\n",
        "    return new_headline\n",
        "\n",
        "def get_shuffle_index(n, max_shuffle_distance):\n",
        "    \"\"\" This is a helper function used to shuffle a headline with n words,\n",
        "    where each word is moved at most max_shuffle_distance. The function does\n",
        "    the following: \n",
        "       1. start with the *unshuffled* index of each word, which\n",
        "          is just the values [0, 1, 2, ..., n]\n",
        "       2. perturb these \"index\" values by a random floating-point value between\n",
        "          [0, max_shuffle_distance]\n",
        "       3. use the sorted position of these values as our new index\n",
        "    \"\"\"\n",
        "    index = np.arange(n)\n",
        "    perturbed_index = index + np.random.rand(n) * 3\n",
        "    new_index = sorted(enumerate(perturbed_index), key=lambda x: x[1])\n",
        "    return [index for (index, pert) in new_index]"
      ],
      "execution_count": 14,
      "outputs": []
    },
    {
      "cell_type": "markdown",
      "metadata": {
        "id": "h8t6eZgy4KUT"
      },
      "source": [
        "Call the function `tokenize_and_randomize` 5 times on a headline of your\n",
        "choice. Make sure to include both your original headline, and the five new\n",
        "headlines in your report."
      ]
    },
    {
      "cell_type": "code",
      "metadata": {
        "id": "CktsYMIE4KUT",
        "colab": {
          "base_uri": "https://localhost:8080/"
        },
        "outputId": "ae3886b5-4bb8-4588-e20b-b9e609778cce"
      },
      "source": [
        "# Report your values here. Make sure that you report the actual values,\n",
        "# and not just the code used to get those values\n",
        "\n",
        "headline = ' '.join(train_data[17].title)\n",
        "print(\"The original headline:\")\n",
        "print(headline)\n",
        "print(\"5 tokenized headlines:\")\n",
        "for i in range(5):\n",
        "  result = tokenize_and_randomize(headline)\n",
        "  sentence = ' '.join([vocab.itos[integer] for integer in result])\n",
        "  print(sentence)"
      ],
      "execution_count": 53,
      "outputs": [
        {
          "output_type": "stream",
          "name": "stdout",
          "text": [
            "The original headline:\n",
            "<bos> netflix poaches cfo from activision blizzard - source <eos>\n",
            "5 tokenized headlines:\n",
            "<bos> netflix <bos> poaches <pad> activision blizzard source <eos> <eos>\n",
            "<bos> netflix <bos> poaches loses activision cfo <pad> source <pad> <eos>\n",
            "<bos> <pad> <bos> poaches <pad> from pilots <pad> - source <eos> <eos>\n",
            "<bos> netflix <bos> <pad> poaches activision blizzard <pad> - <eos>\n",
            "<bos> <pad> netflix <pad> from activision cfo - blizzard source <eos> <eos>\n"
          ]
        }
      ]
    },
    {
      "cell_type": "markdown",
      "metadata": {
        "id": "rHKlJr_m4KUT"
      },
      "source": [
        "### Part (b) -- 8%\n",
        "\n",
        "The training code that we use to train the model is mostly provided for you. \n",
        "The only part we left blank are the parts from Q2(b). Complete the code,\n",
        "and train a new AutoEncoder model for 1 epoch. You can train your model\n",
        "for longer if you want, but training tend to take a long time,\n",
        "so we're only checking to see that your training loss is trending down.\n",
        "\n",
        "If you are using Google Colab, you can use a GPU for this portion.\n",
        "Go to \"Runtime\" => \"Change Runtime Type\"  and set \"Hardware acceleration\" to GPU.\n",
        "Your Colab session will restart.\n",
        "You can move your model to the GPU by typing `model.cuda()`, and move\n",
        "other tensors to GPU (e.g. `xs = xs.cuda()`). To move a model back to CPU,\n",
        "type `model.cpu`. To move a tensor back, use `xs = xs.cpu()`. For training,\n",
        "your model and inputs need to be on the *same device*."
      ]
    },
    {
      "cell_type": "code",
      "metadata": {
        "id": "9IXnUFUJ4KUT",
        "colab": {
          "base_uri": "https://localhost:8080/",
          "height": 746
        },
        "outputId": "63c36d66-3557-4bec-a0c4-58c547b46bdb"
      },
      "source": [
        "def train_autoencoder(model, batch_size=64, learning_rate=0.001, num_epochs=10):\n",
        "    optimizer = optim.Adam(model.parameters(), lr=learning_rate)\n",
        "    criterion = nn.CrossEntropyLoss()\n",
        "    train_loss,train_iter_num = [],[]\n",
        "\n",
        "    for ep in range(num_epochs):\n",
        "        # We will perform data augmentation by re-reading the input each time\n",
        "        field = data.Field(sequential=True,\n",
        "                                     tokenize=tokenize_and_randomize, # <-- data augmentation\n",
        "                                     include_lengths=True,\n",
        "                                     batch_first=True,\n",
        "                                     use_vocab=False, # <-- the tokenization function replaces this\n",
        "                                     pad_token=vocab.stoi['<pad>'])\n",
        "        dataset = data.TabularDataset(train_path, \"tsv\", [('title', field)])\n",
        "\n",
        "        # This BucketIterator will handle padding of sequences that are not of the same length\n",
        "        train_iter = data.BucketIterator(dataset,\n",
        "                                                   batch_size=batch_size,\n",
        "                                                   sort_key=lambda x: len(x.title), # to minimize padding\n",
        "                                                   repeat=False)\n",
        "        for it, ((xs, lengths), _) in enumerate(train_iter):\n",
        "\n",
        "            # Fill in the training code here\n",
        "\n",
        "            zs = model(xs)\n",
        "            loss = criterion(zs.view(-1,vocab_size),xs[:,:-1].reshape(-1))\n",
        "            optimizer.zero_grad()\n",
        "            loss.backward();\n",
        "            optimizer.step()\n",
        "\n",
        "            if (it+1) % 100 == 0:\n",
        "                print(\"[Iter %d] Loss %f\" % (it+1, float(loss)))\n",
        "                train_loss.append(loss)\n",
        "                train_iter_num.append(it+1)\n",
        "\n",
        "        # Optional: Compute and track validation loss\n",
        "        # val_loss = 0\n",
        "        # val_n = 0\n",
        "        # for it, ((xs, lengths), _) in enumerate(valid_iter):\n",
        "        #     zs = model(xs)\n",
        "        #     loss = criterion(zs.view(-1,vocab_size),xs[:,:-1].view(-1))\n",
        "        #     optimizer.zero_grad()\n",
        "        #     loss.backward();\n",
        "        #     optimizer.step()\n",
        "        #     val_loss += float(loss)\n",
        "    # plotting\n",
        "    plt.title(\"Training Curve\")\n",
        "    plt.plot(train_iter_num, train_loss, label=\"Loss\")\n",
        "    plt.xlabel(\"Iter\")\n",
        "    plt.ylabel(\"Loss\")\n",
        "    plt.legend(loc='best')\n",
        "    plt.show() \n",
        "\n",
        "# Include your training curve or output to show that your training loss is trending down\n",
        "model = AutoEncoder(vocab_size, 128, 128)\n",
        "train_autoencoder(model,num_epochs=1)"
      ],
      "execution_count": 16,
      "outputs": [
        {
          "output_type": "stream",
          "name": "stdout",
          "text": [
            "[Iter 100] Loss 3.112790\n",
            "[Iter 200] Loss 2.015042\n",
            "[Iter 300] Loss 1.240177\n",
            "[Iter 400] Loss 1.020985\n",
            "[Iter 500] Loss 0.618119\n",
            "[Iter 600] Loss 0.465196\n",
            "[Iter 700] Loss 0.354278\n",
            "[Iter 800] Loss 0.219099\n",
            "[Iter 900] Loss 0.131538\n",
            "[Iter 1000] Loss 0.104902\n",
            "[Iter 1100] Loss 0.049486\n",
            "[Iter 1200] Loss 0.041466\n",
            "[Iter 1300] Loss 0.037261\n",
            "[Iter 1400] Loss 0.024440\n",
            "[Iter 1500] Loss 0.015954\n",
            "[Iter 1600] Loss 0.013070\n",
            "[Iter 1700] Loss 0.009182\n",
            "[Iter 1800] Loss 0.008927\n",
            "[Iter 1900] Loss 0.006560\n",
            "[Iter 2000] Loss 0.006207\n",
            "[Iter 2100] Loss 0.005593\n",
            "[Iter 2200] Loss 0.004833\n",
            "[Iter 2300] Loss 0.005229\n",
            "[Iter 2400] Loss 0.003824\n",
            "[Iter 2500] Loss 0.003779\n",
            "[Iter 2600] Loss 0.003241\n"
          ]
        },
        {
          "output_type": "display_data",
          "data": {
            "image/png": "[encoded data removed]",
            "text/plain": [
              "<Figure size 432x288 with 1 Axes>"
            ]
          },
          "metadata": {
            "needs_background": "light"
          }
        }
      ]
    },
    {
      "cell_type": "markdown",
      "metadata": {
        "id": "wQot60XU4KUT"
      },
      "source": [
        "### Part (c) -- 7%\n",
        "\n",
        "This model requires many epochs (>50) to train, and is quite slow without using a GPU.\n",
        "You can train a model yourself, or you can load the model weights that we have trained,\n",
        "and available on the course website (AE_RNN_model.pk).\n",
        "\n",
        "Assuming that your `AutoEncoder` is set up correctly, the following code should run without\n",
        "error."
      ]
    },
    {
      "cell_type": "code",
      "metadata": {
        "id": "vaUUhd-Q4KUU",
        "colab": {
          "base_uri": "https://localhost:8080/"
        },
        "outputId": "edd39665-dfc9-4a9f-ea4d-e222ce8ce192"
      },
      "source": [
        "model = AutoEncoder(10000, 128, 128)\n",
        "checkpoint_path = '/content/gdrive/My Drive/deep_learning/assignment4/AE_RNN_model.pk' # Update me\n",
        "model.load_state_dict(torch.load(checkpoint_path))"
      ],
      "execution_count": 17,
      "outputs": [
        {
          "output_type": "execute_result",
          "data": {
            "text/plain": [
              "<All keys matched successfully>"
            ]
          },
          "metadata": {},
          "execution_count": 17
        }
      ]
    },
    {
      "cell_type": "markdown",
      "metadata": {
        "id": "sG-xazc24KUU"
      },
      "source": [
        "Then, repeat your code from Q2(d), for `train_data[10].title`\n",
        "with temperature settings 0.7, 0.9, and 1.5.\n",
        "Explain why we generally don't want the temperature setting to\n",
        "be too **small**."
      ]
    },
    {
      "cell_type": "code",
      "metadata": {
        "id": "AXF5iBHX4KUU",
        "colab": {
          "base_uri": "https://localhost:8080/"
        },
        "outputId": "e5824b29-31f9-46a2-cafa-baa3f2f3432d"
      },
      "source": [
        "# Include the generated sequences and explanation in your PDF report.\n",
        "\n",
        "headline = train_data[10].title\n",
        "input_seq = torch.Tensor([vocab.stoi[w] for w in headline]).unsqueeze(0).long()\n",
        "last_hidden = model.encode(input_seq)\n",
        "\n",
        "# ...\n",
        "def print_temp(temp):\n",
        "  print(\"Result for temperature = \",temp,\":\")\n",
        "  for i in range(5):\n",
        "    generated_sequence = sample_sequence(model,last_hidden,temperature=temp)\n",
        "    print(generated_sequence)\n",
        "\n",
        "print_temp(0.7)\n",
        "print_temp(0.9)\n",
        "print_temp(1.5)\n"
      ],
      "execution_count": 19,
      "outputs": [
        {
          "output_type": "stream",
          "name": "stdout",
          "text": [
            "Result for temperature =  0.7 :\n",
            "['wall', 'street', 'rises', ',', 'limps', 'die', 'win', 'at', '$', '<pad>', 'highway', 'election', 'quarterly']\n",
            "['wall', 'street', 'rises', ',', 'limps', 'open', 'kipchoge', 'reopens', 'to', 'election', 'fall', 'tesla', 'media']\n",
            "['wall', 'street', 'rises', ',', 'limps', 'across', 'open', 'pays', '<pad>', 'of', 'floor', 'field', 'past']\n",
            "['wall', 'street', 'rises', ',', 'limps', 'die', 'win', 'at', '$', 'election', 'thai', 'slows', 'olympics']\n",
            "['wall', 'street', 'rises', ',', 'limps', 'across', 'melbourne', 'france', 'line', 'deal', 'after', 'zantac', '_num_']\n",
            "Result for temperature =  0.9 :\n",
            "['wall', 'street', 'rises', ',', 'limps', 'die', 'win', 'at', 'of', 'sciences', 'election', 'four', 'counted']\n",
            "['wall', 'street', 'rises', ',', 'limps', 'open', 'sentence', 'second', 'massacre', 'still', 'china', 'big', 'club']\n",
            "['wall', 'street', 'rises', ',', 'limps', 'die', 'win', 'at', 'of', 'sciences', 'election', 'four']\n",
            "['wall', 'street', 'rises', ',', 'limps', 'die', 'win', 'at', '$', '<pad>', 'after', 'change', 'year']\n",
            "['wall', 'street', 'rises', ',', 'limps', 'die', 'win', 'at', 'of', 'sciences', 'election', 'four', 'confidence']\n",
            "Result for temperature =  1.5 :\n",
            "['wall', 'street', 'leads', 'previous', \"'s\", 'minute', 'proceedings', 'madrid', 'to', 'brexit', 'big', 'january', 'months']\n",
            "['wall', 'street', 'rises', ',', 'limps', 'open', 'breakfast', 'petrochemical', 'with', '<pad>', 'risk', 'highway', 'slow']\n",
            "['wall', 'street', 'rises', ',', 'limps', 'across', 'dogs', 'to', 'stream', 'warning', 'despite', 'london', 'march']\n",
            "['wall', 'street', 'rises', ',', 'lowe', 'helicopters', 'challenge', 'coors', '_num_', 'protests', 'big', ':', 'cenbank']\n",
            "['wall', 'street', 'rises', ',', 'limps', 'die', 'win', 'pulls', '_num_', 'g7', 'after', 'vaccine', 'rains']\n"
          ]
        }
      ]
    },
    {
      "cell_type": "markdown",
      "metadata": {
        "id": "tgjhZHJDRljU"
      },
      "source": [
        "**Write your explanation here:**\n",
        "\n",
        "When the temperature is too small we can see that the sentences tend to be the same. That is probably because the model is \"peakier\".\n"
      ]
    },
    {
      "cell_type": "markdown",
      "metadata": {
        "id": "mftjD-To4KUU"
      },
      "source": [
        "## Question 4. Latent space manipulations (20%)\n",
        "\n",
        "In parts 2-3, we've explored the decoder portion of the autoencoder. In this section,\n",
        "let's explore the **encoder**. In particular, the encoder RNN gives us \n",
        "embeddings of news headlines!\n",
        "\n",
        "First, let's load the **validation** data set:"
      ]
    },
    {
      "cell_type": "code",
      "metadata": {
        "id": "08HhRGfm4KUU"
      },
      "source": [
        "valid_data = data.TabularDataset(\n",
        "    path=valid_path,                # data file path\n",
        "    format=\"tsv\",                   # fields are separated by a tab\n",
        "    fields=[('title', text_field)]) # list of fields (we have only one)"
      ],
      "execution_count": 60,
      "outputs": []
    },
    {
      "cell_type": "markdown",
      "metadata": {
        "id": "utBRC0tq4KUV"
      },
      "source": [
        "### Part (a) -- 4%\n",
        "\n",
        "Compute the embeddings of every item in the validation set. Then, store the\n",
        "result in a single PyTorch tensor of shape `[19046, 128]`, since there are\n",
        "19,046 headlines in the validation set."
      ]
    },
    {
      "cell_type": "code",
      "metadata": {
        "id": "9GmdVIPB4KUV",
        "colab": {
          "base_uri": "https://localhost:8080/"
        },
        "outputId": "742840ff-d6c7-4be3-9084-1df1dd1414a9"
      },
      "source": [
        "# Write your code here\n",
        "\n",
        "result = torch.empty(19046, 128)\n",
        "\n",
        "\n",
        "for index, headline in enumerate(valid_data):\n",
        "  result[index] = model.embed(torch.Tensor([vocab.stoi[w] for w in headline.title]).long().unsqueeze(0)[0,-2])\n",
        "\n",
        "# Show that your resulting PyTorch tensor has shape `[19046, 128]`\n",
        "print(\"The shape of the result tensor is \", result.shape)"
      ],
      "execution_count": 61,
      "outputs": [
        {
          "output_type": "stream",
          "name": "stdout",
          "text": [
            "The shape of the result tensor is  torch.Size([19046, 128])\n"
          ]
        }
      ]
    },
    {
      "cell_type": "markdown",
      "metadata": {
        "id": "BlKbT2vW4KUV"
      },
      "source": [
        "### Part (b) -- 4%\n",
        "\n",
        "Find the 5 closest headlines to the headline `valid_data[13]`. Use the\n",
        "cosine similarity to determine closeness. (Hint: You can use code from assignment 2)"
      ]
    },
    {
      "cell_type": "code",
      "metadata": {
        "id": "7AMt2HIz4KUV",
        "colab": {
          "base_uri": "https://localhost:8080/"
        },
        "outputId": "aa697a21-9278-42bc-b396-7aa1c62f8812"
      },
      "source": [
        "# Write your code here. Make sure to include the actual 5 closest headlines.\n",
        "\n",
        "\n",
        "\n",
        "# helper function - recieves a headline and returns indices of top 5 similarities\n",
        "\n",
        "def calculate_similarity(sentence):\n",
        "  embedded_vector = model.embed(torch.Tensor([vocab.stoi[w] for w in sentence.title]).long().unsqueeze(0)[0,-2]).detach().numpy()\n",
        "  sentence_norm = np.linalg.norm(embedded_vector, axis=0)\n",
        "  closest_sentence_similarity = sec_closest_sentence_similarity = third_closest_sentence_similarity = fourth_closest_sentence_similarity = fifth_closest_sentence_similarity = -50\n",
        "  closest_sentence_index = sec_closest_index = third_closest_index = fourth_closest_index = fifth_closest_index =  0\n",
        "  for i in range(19046):\n",
        "\n",
        "    # calculate the current simialrity\n",
        "    current_sentence_norm = np.linalg.norm(result[i].detach().numpy(), axis=0)\n",
        "    current_embedded_vector = result[i].detach().numpy()\n",
        "    current_cosine_similarity = ((embedded_vector.dot(current_embedded_vector))/(sentence_norm * current_sentence_norm))\n",
        "\n",
        "    # check if similarity is the largest\n",
        "    if(closest_sentence_similarity < current_cosine_similarity and valid_data[i].title != sentence.title):\n",
        "      fifth_closest_sentence_similarity = fourth_closest_sentence_similarity\n",
        "      fourth_closest_sentence_similarity = third_closest_sentence_similarity\n",
        "      third_closest_sentence_similarity = sec_closest_sentence_similarity\n",
        "      sec_closest_sentence_similarity = closest_sentence_similarity\n",
        "      fifth_closest_index = fourth_closest_index\n",
        "      fourth_closest_index = third_closest_index\n",
        "      third_closest_index = sec_closest_index\n",
        "      sec_closest_index = closest_sentence_index\n",
        "\n",
        "      closest_sentence_similarity = current_cosine_similarity\n",
        "      closest_sentence_index = i;\n",
        "\n",
        "      # check if similarity is the second largest\n",
        "    elif(sec_closest_sentence_similarity < current_cosine_similarity and valid_data[i].title != sentence.title):\n",
        "      fifth_closest_sentence_similarity = fourth_closest_sentence_similarity\n",
        "      fourth_closest_sentence_similarity = third_closest_sentence_similarity\n",
        "      third_closest_sentence_similarity = sec_closest_sentence_similarity\n",
        "\n",
        "      fifth_closest_index = fourth_closest_index\n",
        "      fourth_closest_index = third_closest_index\n",
        "      third_closest_index = sec_closest_index\n",
        "\n",
        "      sec_closest_sentence_similarity = current_cosine_similarity\n",
        "      sec_closest_index = i;\n",
        "\n",
        "      # check if similarity is the third largest\n",
        "    elif(third_closest_sentence_similarity < current_cosine_similarity and valid_data[i].title != sentence.title):\n",
        "      fifth_closest_sentence_similarity = fourth_closest_sentence_similarity\n",
        "      fourth_closest_sentence_similarity = third_closest_sentence_similarity\n",
        "\n",
        "      fifth_closest_index = fourth_closest_index\n",
        "      fourth_closest_index = third_closest_index\n",
        "\n",
        "      third_closest_sentence_similarity = current_cosine_similarity\n",
        "      third_closest_index = i;\n",
        "\n",
        "      # check if similarity is the fourth largest\n",
        "    elif(fourth_closest_sentence_similarity < current_cosine_similarity and valid_data[i].title != sentence.title):\n",
        "      fifth_closest_sentence_similarity = fourth_closest_sentence_similarity\n",
        "      fifth_closest_index = fourth_closest_index\n",
        "\n",
        "      fourth_closest_sentence_similarity = current_cosine_similarity\n",
        "      fourth_closest_index = i;\n",
        "\n",
        "      # check if similarity is the fifth largest\n",
        "    elif(third_closest_sentence_similarity < current_cosine_similarity and valid_data[i].title != sentence.title):\n",
        "      fifth_closest_sentence_similarity = current_cosine_similarity\n",
        "      fifth_closest_index = i;\n",
        "  return closest_sentence_index,sec_closest_index,third_closest_index,fourth_closest_index,fifth_closest_index;\n",
        "\n",
        "\n",
        "print(\"Original headline:\")\n",
        "print(valid_data[13].title)\n",
        "indices = calculate_similarity(valid_data[13])\n",
        "for i in range(5):\n",
        "  print(i+1, \" closest headline to valid_data[13].title is\", valid_data[indices[i]].title)"
      ],
      "execution_count": 62,
      "outputs": [
        {
          "output_type": "stream",
          "name": "stdout",
          "text": [
            "Original headline:\n",
            "['<bos>', 'asia', 'takes', 'heart', 'from', 'new', 'year', 'gains', 'in', 'u.s.', 'stock', 'futures', '<eos>']\n",
            "1  closest headline to valid_data[13].title is ['<bos>', 'canada', 'stocks-trade', 'optimism', ',', 'higher', 'oil', 'prices', 'lift', 'tsx', 'futures', '<eos>']\n",
            "2  closest headline to valid_data[13].title is ['<bos>', 'biomarin', 'says', 'data', 'shows', 'hemophilia', 'gene', 'therapy', 'effects', 'could', 'wane', '<eos>']\n",
            "3  closest headline to valid_data[13].title is ['<bos>', 'wall', 'street', 'falls', 'as', 'trade', 'hopes', 'wane', '<eos>']\n",
            "4  closest headline to valid_data[13].title is ['<bos>', 's', '&', 'p', '_num_', ',', 'nasdaq', 'notch', 'record', 'highs', 'as', 'virus', 'fears', 'wane', '<eos>']\n",
            "5  closest headline to valid_data[13].title is ['<bos>', 'russia', 'to', 'miss', 'world', 'championships', 'after', 'iaaf', 'ban', 'extended', '<eos>']\n"
          ]
        }
      ]
    },
    {
      "cell_type": "markdown",
      "metadata": {
        "id": "cAzZt4bU4KUW"
      },
      "source": [
        "### Part (c) -- 4%\n",
        "\n",
        "Find the 5 closest headlines to another headline of your choice."
      ]
    },
    {
      "cell_type": "code",
      "metadata": {
        "id": "BkKR09Ce4KUW",
        "colab": {
          "base_uri": "https://localhost:8080/"
        },
        "outputId": "f46fbf78-90d0-49e6-9b7c-9ba0d0242a9e"
      },
      "source": [
        "# Write your code here. \n",
        "# Make sure to include the original headline and the 5 closest headlines.\n",
        "print(\"Original headline:\")\n",
        "print(valid_data[15024].title)\n",
        "indices = calculate_similarity(valid_data[15024])\n",
        "for i in range(5):\n",
        "  print(i+1, \" closest headline to valid_data[15024].title is\", valid_data[indices[i]].title)"
      ],
      "execution_count": 63,
      "outputs": [
        {
          "output_type": "stream",
          "name": "stdout",
          "text": [
            "Original headline:\n",
            "['<bos>', 'global', 'markets-asian', 'shares', 'buoyed', 'by', 'wall', 'st', 'rally', ',', 'but', 'china', 'worry', 'caps', 'gains', '<eos>']\n",
            "1  closest headline to valid_data[15024].title is ['<bos>', 'china', 'stocks', 'rise', 'on', 'regulator', 'leadership', 'change', ',', 'weak', 'industrial', 'profit', 'caps', 'gains', '<eos>']\n",
            "2  closest headline to valid_data[15024].title is ['<bos>', 'metals-base', 'metals', 'rise', 'on', 'dovish', 'fed', ';', 'weak', 'china', 'data', 'caps', 'gains', '<eos>']\n",
            "3  closest headline to valid_data[15024].title is ['<bos>', 'sensex', ',', 'nifty', 'join', 'asian', 'rally', ';', 'ril', ',', 'infosys', 'drive', 'gains', '<eos>']\n",
            "4  closest headline to valid_data[15024].title is ['<bos>', 'precious-gold', 'prices', 'rise', 'on', 'subdued', 'dollar', ';', 'fed', 'stance', 'limits', 'gains', '<eos>']\n",
            "5  closest headline to valid_data[15024].title is ['<bos>', 'north', 'korea', \"'s\", 'kim', 'satisfied', 'at', 'outcome', 'of', 'negotiations', 'with', 'u.s.', '-', 'kcna', '<eos>']\n"
          ]
        }
      ]
    },
    {
      "cell_type": "markdown",
      "metadata": {
        "id": "ftUooZD-4KUW"
      },
      "source": [
        "### Part (d) -- 8%\n",
        "\n",
        "Choose two headlines from the validation set, and find their embeddings.\n",
        "We will **interpolate** between the two embeddings like we did in the example presented in class for training autoencoders on MNIST.\n",
        "\n",
        "Find 3 points, equally spaced between the embeddings of your headlines.\n",
        "If we let $e_0$ be the embedding of your first headline and $e_4$ be\n",
        "the embedding of your second headline, your three points should be:\n",
        "\n",
        "\\begin{align*}\n",
        "e_1 &=  0.75 e_0 + 0.25 e_4 \\\\\n",
        "e_2 &=  0.50 e_0 + 0.50 e_4 \\\\\n",
        "e_3 &=  0.25 e_0 + 0.75 e_4 \\\\\n",
        "\\end{align*}\n",
        "\n",
        "Decode each of $e_1$, $e_2$ and $e_3$ five times, with a temperature setting\n",
        "that shows some variation in the generated sequences. Try to get a logical and cool sentence (this might be hard)."
      ]
    },
    {
      "cell_type": "code",
      "metadata": {
        "id": "7SYa3PNc4KUW",
        "colab": {
          "base_uri": "https://localhost:8080/"
        },
        "outputId": "932d5f4d-3225-4efa-9287-e656914ee0c4"
      },
      "source": [
        "# Write your code here. Include your generated sequences.\n",
        "\n",
        "print(valid_data[3].title)\n",
        "print(valid_data[14].title)\n",
        "\n",
        "embedded_vector0 = model.embed(torch.Tensor([vocab.stoi[w] for w in valid_data[3].title]).long().unsqueeze(0)[0,-2]).detach().numpy()\n",
        "embedded_vector4 = model.embed(torch.Tensor([vocab.stoi[w] for w in valid_data[14].title]).long().unsqueeze(0)[0,-2]).detach().numpy()\n",
        "\n",
        "#print(embedded_vector0)\n",
        "#print(embedded_vector4)\n",
        "\n",
        "embedded_vector1 = 0.75 * embedded_vector0 + 0.25 * embedded_vector4\n",
        "embedded_vector2 = 0.5 * embedded_vector0 + 0.5 * embedded_vector4\n",
        "embedded_vector3 = 0.25 * embedded_vector0 + 0.75 * embedded_vector4\n",
        "\n",
        "generated_sequence = sample_sequence(model,torch.Tensor(embedded_vector3).view(1,1,-1), temperature=0.7)\n",
        "print(generated_sequence)\n",
        "generated_sequence = sample_sequence(model,torch.Tensor(embedded_vector3).view(1,1,-1), temperature=0.9)\n",
        "print(generated_sequence)\n",
        "generated_sequence = sample_sequence(model,torch.Tensor(embedded_vector3).view(1,1,-1), temperature=1.5)\n",
        "print(generated_sequence)\n",
        "\n",
        "generated_sequence = sample_sequence(model,torch.Tensor(embedded_vector2).view(1,1,-1), temperature=0.7)\n",
        "print(generated_sequence)\n",
        "generated_sequence = sample_sequence(model,torch.Tensor(embedded_vector2).view(1,1,-1), temperature=0.9)\n",
        "print(generated_sequence)\n",
        "generated_sequence = sample_sequence(model,torch.Tensor(embedded_vector2).view(1,1,-1), temperature=1.5)\n",
        "print(generated_sequence)\n",
        "\n",
        "generated_sequence = sample_sequence(model,torch.Tensor(embedded_vector1).view(1,1,-1), temperature=0.7)\n",
        "print(generated_sequence)\n",
        "generated_sequence = sample_sequence(model,torch.Tensor(embedded_vector1).view(1,1,-1), temperature=0.9)\n",
        "print(generated_sequence)\n",
        "generated_sequence = sample_sequence(model,torch.Tensor(embedded_vector1).view(1,1,-1), temperature=1.5)\n",
        "print(generated_sequence)\n",
        "\n",
        "#print(model.decode(torch.from_numpy(embedded_vector1).long().unsqueeze(0)))"
      ],
      "execution_count": 26,
      "outputs": [
        {
          "output_type": "stream",
          "name": "stdout",
          "text": [
            "['<bos>', 'a-league', 'standings', '<eos>']\n",
            "['<bos>', 'romney', 'attacks', 'trump', ',', 'saying', 'he', 'causes', 'dismay', 'around', 'the', 'world', '<eos>']\n",
            "['birmingham', 'natura', 'accelerate', '<pad>', '<pad>']\n",
            "['colombian', 'ajax', 'metals', '<pad>', '<pad>', '<pad>']\n",
            "['rulers', 'tours', 'solutions', 'nifty', 'retail', '<pad>', '<pad>', '<pad>', '<pad>', '<pad>', '<pad>', '<pad>', '<pad>', '<pad>', '<pad>', '<pad>', '<pad>', 'jobs', 'xi', '<pad>']\n",
            "['tycoon', 'misleading', '_num_-imperial', '<pad>', '<pad>', '<pad>', 'euro', '<pad>', '<pad>', '<pad>', 'petroleum', '<pad>', '<pad>', 'lower', '<pad>', '<pad>', '<pad>', '<pad>', '<pad>', '<pad>']\n",
            "['tycoon', 'misleading', 'commodities', '<pad>', '<pad>', '<pad>', '<pad>', 'profits', '<pad>', '<pad>', '<pad>', '<pad>', '<pad>', '<pad>', '<pad>', '<pad>', '<pad>', '<pad>', '<pad>', '<pad>']\n",
            "['infant', 's.korean', 'planning', '<pad>', '<pad>', '<pad>', '<pad>', '<pad>', '<pad>', '<pad>', '<pad>', '<pad>', '<pad>', 'jobs', '<pad>', '<pad>', 'jobs', 'rise', '<pad>', '<pad>']\n",
            "['birmingham', 'broader', 'caixa', '<pad>', '<pad>', '_num_-pound', '<pad>', '<pad>', '<pad>', '<pad>', '<pad>', '<pad>', 'surge', '<pad>', 'trudeau', '<pad>', 'lower', '<pad>', 'weak', '<pad>']\n",
            "['grill', 'newton', 'create', '<pad>', 'strength', '<pad>', '<pad>', '<pad>', '<pad>', '<pad>', '<pad>', '<pad>', '<pad>', '<pad>', '<pad>', '<pad>', '<pad>', '<pad>', 'slow', '<pad>']\n",
            "['hoax', 'bafta', 'birthday', 'aborted', 'cash', '<pad>', '<pad>', '<pad>', '<pad>', '<pad>', '<pad>', '<pad>', '<pad>', 'percent', '<pad>', '<pad>', '<pad>', '<pad>', '<pad>', '<pad>']\n"
          ]
        }
      ]
    }
  ]
}